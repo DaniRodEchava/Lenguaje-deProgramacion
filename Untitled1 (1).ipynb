{
  "nbformat": 4,
  "nbformat_minor": 0,
  "metadata": {
    "colab": {
      "provenance": []
    },
    "kernelspec": {
      "name": "python3",
      "display_name": "Python 3"
    },
    "language_info": {
      "name": "python"
    }
  },
  "cells": [
    {
      "cell_type": "markdown",
      "source": [],
      "metadata": {
        "id": "UyKaqYhdGdIa"
      }
    },
    {
      "cell_type": "markdown",
      "source": [
        "**ARBOL DE CALORIAS**"
      ],
      "metadata": {
        "id": "sNOdSV-NGv6d"
      }
    },
    {
      "cell_type": "code",
      "execution_count": null,
      "metadata": {
        "id": "Xbl984ocGJAC"
      },
      "outputs": [],
      "source": [
        "banano = {\n",
        "    \"tamano_porcion\":28,\n",
        "    \"calorias\":94.1,\n",
        "    \"grasa\":300,\n",
        "    \"sodio\":1.96,\n",
        "    \"azucar\":16,\n",
        "    \"fibra\":0.504\n",
        "}\n",
        "\n",
        "if banano[\"calorias\"] < 5:\n",
        "    etiqueta_calorias = \"SIN CALORÍAS\"\n",
        "elif banano[\"calorias\"] < 40:\n",
        "    etiqueta_calorias = \"BAJO EN CALORÍAS\"\n",
        "else:\n",
        "    etiqueta_calorias = None\n",
        "\n",
        "print(etiqueta_calorias)"
      ]
    },
    {
      "cell_type": "markdown",
      "source": [
        "**Ejercicio 1**\n",
        "Haz lo mismo con este alimento:"
      ],
      "metadata": {
        "id": "Y9QgWCfHGz_K"
      }
    },
    {
      "cell_type": "code",
      "source": [
        "tomate = {\n",
        "    \"tamano_porcion\":125,\n",
        "    \"calorias\":22.5,\n",
        "    \"grasa\":250,\n",
        "    \"sodio\":6.25,\n",
        "    \"azucar\":3.29,\n",
        "    \"fibra\":1.5\n",
        "}\n",
        "\n",
        "if tomate[\"calorias\"] < 5:\n",
        "    etiqueta_calorias = \"SIN CALORÍAS\"\n",
        "elif tomate[\"calorias\"] < 40:\n",
        "    etiqueta_calorias = \"BAJO EN CALORÍAS\"\n",
        "else:\n",
        "    etiqueta_calorias = None\n",
        "\n",
        "print(etiqueta_calorias)"
      ],
      "metadata": {
        "colab": {
          "base_uri": "https://localhost:8080/"
        },
        "id": "i_sLFeGUG6rQ",
        "outputId": "6b3a034d-f2d3-41b2-9105-0c1c44536755"
      },
      "execution_count": null,
      "outputs": [
        {
          "output_type": "stream",
          "name": "stdout",
          "text": [
            "BAJO EN CALORÍAS\n"
          ]
        }
      ]
    },
    {
      "cell_type": "markdown",
      "source": [
        "**EXPLICACION Y EJEMPLO**"
      ],
      "metadata": {
        "id": "gSEpHos5H0kd"
      }
    },
    {
      "cell_type": "code",
      "source": [
        "def asignar_etiquetas_calorias(alimento):\n",
        "    if alimento[\"calorias\"] < 5: # Cambiamos \"banano\" a \"alimento\"\n",
        "        etiqueta_calorias = \"SIN CALORÍAS\"\n",
        "    elif alimento[\"calorias\"] < 40: # Cambiamos \"banano\" a \"alimento\"\n",
        "        etiqueta_calorias = \"BAJO EN CALORÍAS\"\n",
        "    else:\n",
        "        etiqueta_calorias = None\n",
        "    print(etiqueta_calorias)\n",
        "\n",
        "    asignar_etiquetas_calorias(tomate)"
      ],
      "metadata": {
        "id": "_ncS2klyHrBW"
      },
      "execution_count": null,
      "outputs": []
    },
    {
      "cell_type": "markdown",
      "source": [
        "**Ejercicio 2**\n",
        "Prueba la función asignar_etiquetas_calorias() utilizando en su lugar el banano."
      ],
      "metadata": {
        "id": "DcDBNfdaH5vs"
      }
    },
    {
      "cell_type": "code",
      "source": [
        "def asignar_etiquetas_calorias(alimento):\n",
        "    if alimento[\"calorias\"] < 5: # Cambiamos \"banano\" a \"alimento\"\n",
        "        etiqueta_calorias = \"SIN CALORÍAS\"\n",
        "    elif alimento[\"calorias\"] < 40: # Cambiamos \"banano\" a \"alimento\"\n",
        "        etiqueta_calorias = \"BAJO EN CALORÍAS\"\n",
        "    else:\n",
        "        etiqueta_calorias = None\n",
        "    print(etiqueta_calorias)\n"
      ],
      "metadata": {
        "id": "0DW-c21SII2C"
      },
      "execution_count": null,
      "outputs": []
    },
    {
      "cell_type": "code",
      "source": [
        "banano = {\n",
        "    \"tamano_porcion\": 28,\n",
        "    \"calorias\": 94.1,\n",
        "    \"grasa\": 300,\n",
        "    \"sodio\": 1.96,\n",
        "    \"azucar\": 16,\n",
        "    \"fibra\": 0.504\n",
        "}\n",
        "\n",
        "asignar_etiquetas_calorias(banano)"
      ],
      "metadata": {
        "colab": {
          "base_uri": "https://localhost:8080/"
        },
        "id": "RzLxzANBKa51",
        "outputId": "264e298e-0dfc-40d8-a1d7-5e5b3c7dccc9"
      },
      "execution_count": null,
      "outputs": [
        {
          "output_type": "stream",
          "name": "stdout",
          "text": [
            "None\n"
          ]
        }
      ]
    },
    {
      "cell_type": "markdown",
      "source": [
        "**Ejercicio 3**\n",
        "Ejecuta help(asignar_etiqueta_calorias). ¿Qué ves?"
      ],
      "metadata": {
        "id": "ou2Wj6KoLLPJ"
      }
    },
    {
      "cell_type": "code",
      "source": [
        "help(asignar_etiquetas_calorias)"
      ],
      "metadata": {
        "colab": {
          "base_uri": "https://localhost:8080/"
        },
        "id": "f4e7nNmKLOSH",
        "outputId": "0ca42b8d-52b5-4139-fe2d-442e9a776764"
      },
      "execution_count": null,
      "outputs": [
        {
          "output_type": "stream",
          "name": "stdout",
          "text": [
            "Help on function asignar_etiquetas_calorias in module __main__:\n",
            "\n",
            "asignar_etiquetas_calorias(alimento)\n",
            "\n"
          ]
        }
      ]
    },
    {
      "cell_type": "markdown",
      "source": [
        "**Continuacion y ejemplos**"
      ],
      "metadata": {
        "id": "SWrWY2ETMlCQ"
      }
    },
    {
      "cell_type": "code",
      "source": [
        "def asignar_etiqueta_calorias(alimento):\n",
        "    \"\"\"\n",
        "    Asigna una etiqueta de calorías de acuerdo a las reglas de la FDA.\n",
        "\n",
        "    Argumentos:\n",
        "    alimento: Un dicccionario Python que tiene al menos una llave \"calorías\".\n",
        "\n",
        "    Salida:\n",
        "    etiqueta_calorías: Una cadena de texto, entre \"SIN CALORÍAS\", \"BAJO EN CALORÍAS\" o None\n",
        "    \"\"\"\n",
        "    if alimento[\"calorias\"] < 5:\n",
        "        etiqueta_calorias = \"SIN CALORÍAS\"\n",
        "    elif alimento[\"calorias\"] < 40:\n",
        "        etiqueta_calorias = \"BAJO EN CALORÍAS\"\n",
        "    else:\n",
        "        etiqueta_calorias = None\n",
        "    return etiqueta_calorias\n"
      ],
      "metadata": {
        "id": "QwLMB2tDM0y-"
      },
      "execution_count": null,
      "outputs": []
    },
    {
      "cell_type": "code",
      "source": [
        "etiqueta_caloria_tomate = asignar_etiqueta_calorias(tomate)\n",
        "etiqueta_caloria_banano = asignar_etiqueta_calorias(banano)"
      ],
      "metadata": {
        "id": "XQiUqszDMxOk"
      },
      "execution_count": null,
      "outputs": []
    },
    {
      "cell_type": "code",
      "source": [
        "print(\"La Etiqueta para tomate es\", etiqueta_caloria_tomate)\n",
        "print(\"y la Etiqueta para banano es\", etiqueta_caloria_banano)"
      ],
      "metadata": {
        "id": "ugGXWCj2NDlk"
      },
      "execution_count": null,
      "outputs": []
    },
    {
      "cell_type": "markdown",
      "source": [
        "**Añadiendo etiquetas del contenido de grasa**\n",
        "Ahora que ya tenemos nuestra función para añadir etiquetas de calorías. Hagamos lo mismo con el contenido de grasa. Este es el árbol de decisión:\n",
        "\n",
        "Árbol de decisión sobre la grasa"
      ],
      "metadata": {
        "id": "l9yetM10NNye"
      }
    },
    {
      "cell_type": "markdown",
      "source": [
        "**Ejercicio 4**\n",
        "Crea la función asignar_etiqueta_grasa() para implementar este árbol de decisión"
      ],
      "metadata": {
        "id": "wi6ZBDSdNRbg"
      }
    },
    {
      "cell_type": "code",
      "source": [
        "def asignar_etiqueta_grasa(alimento):\n",
        "\n",
        "    if alimento[\"grasa\"] < 5:\n",
        "        etiqueta_grasa = \"SIN GRASA\"\n",
        "    elif alimento[\"grasa\"] < 40:\n",
        "        etiqueta_grasa = \"BAJO EN GRASA\"\n",
        "    else:\n",
        "        etiqueta_grasa = None\n",
        "    return etiqueta_grasa"
      ],
      "metadata": {
        "id": "Wrj-Ast2NVtr"
      },
      "execution_count": null,
      "outputs": []
    },
    {
      "cell_type": "code",
      "source": [
        "tomate = {\n",
        "    \"tamano_porcion\":125,\n",
        "    \"calorias\":22.5,\n",
        "    \"grasa\":250,\n",
        "    \"sodio\":6.25,\n",
        "    \"azucar\":3.29,\n",
        "    \"fibra\":1.5\n",
        "}\n",
        "\n",
        "print(asignar_etiqueta_grasa(tomate))"
      ],
      "metadata": {
        "colab": {
          "base_uri": "https://localhost:8080/"
        },
        "id": "YLIMGwfTOTtr",
        "outputId": "d73e8eef-2ecc-4811-a314-f07250b4ba01"
      },
      "execution_count": null,
      "outputs": [
        {
          "output_type": "stream",
          "name": "stdout",
          "text": [
            "None\n"
          ]
        }
      ]
    },
    {
      "cell_type": "markdown",
      "source": [
        "**Ejercicio 5**\n",
        "Modifica la función asignar_etiqueta_grasa() para utilizar gramos en lugar de miligramos en los condicionales."
      ],
      "metadata": {
        "id": "oF9eOJKhOsqq"
      }
    },
    {
      "cell_type": "code",
      "source": [
        "def asignar_etiqueta_grasa(alimento):\n",
        "\n",
        "    grasa_en_gramos = alimento[\"grasa\"] / 1000\n",
        "\n",
        "    if grasa_en_gramos < 5:\n",
        "        etiqueta_grasa = \"SIN GRASA\"\n",
        "    elif grasa_en_gramos < 40:\n",
        "        etiqueta_grasa = \"BAJO EN GRASA\"\n",
        "    else:\n",
        "        etiqueta_grasa = None\n",
        "    return etiqueta_grasa"
      ],
      "metadata": {
        "id": "yzwYCF2sPNRz"
      },
      "execution_count": null,
      "outputs": []
    },
    {
      "cell_type": "code",
      "source": [
        "tomate = {\n",
        "    \"tamano_porcion\":125,\n",
        "    \"calorias\":22.5,\n",
        "    \"grasa\":250,\n",
        "    \"sodio\":6.25,\n",
        "    \"azucar\":3.29,\n",
        "    \"fibra\":1.5\n",
        "}\n",
        "\n",
        "print(asignar_etiqueta_grasa(tomate))"
      ],
      "metadata": {
        "colab": {
          "base_uri": "https://localhost:8080/"
        },
        "id": "zdgS7iQAQAvH",
        "outputId": "f5adec2e-b9b1-4dc4-a99d-9296818ff018"
      },
      "execution_count": null,
      "outputs": [
        {
          "output_type": "stream",
          "name": "stdout",
          "text": [
            "SIN GRASA\n"
          ]
        }
      ]
    },
    {
      "cell_type": "markdown",
      "source": [
        "**Añadiendo las etiquetas del contenido de azúcar**\n",
        "Para el azúcar, nuestra tarea es más sencilla: Si hay menos de 0,5 gramos de azúcar por ración, es SIN AZÚCAR. Si hay más de 0,5 gramos, el alimento no recibe ninguna etiqueta. En código, esto es:"
      ],
      "metadata": {
        "id": "EAaI4L-zQT2X"
      }
    },
    {
      "cell_type": "code",
      "source": [
        "def asignar_etiqueta_azucar(alimento):\n",
        "    \"\"\"\n",
        "    Asignar una etiqueta Azúcar de acuerdo a las reglas de la FDA.\n",
        "\n",
        "    Argumentos:\n",
        "    alimento: Un diccionario Python que tiene al menos una llave \"azúcar\".\n",
        "\n",
        "    Salidas:\n",
        "    etiqueta_azúcar: Una Cadena de texto, entre \"LIBRE DE AZÚCAR\" o None\n",
        "    \"\"\"\n",
        "    if alimento[\"azucar\"] < 0.5:\n",
        "        etiqueta_azucar = \"LIBRE DE AZÚCAR\"\n",
        "    else:\n",
        "        etiqueta_azucar = None\n",
        "    return etiqueta_azucar"
      ],
      "metadata": {
        "id": "xzTjoxbOQYgq"
      },
      "execution_count": null,
      "outputs": []
    },
    {
      "cell_type": "code",
      "source": [
        "print(asignar_etiqueta_azucar(banano))"
      ],
      "metadata": {
        "id": "gDUW2MyJQd8t",
        "outputId": "60ae73f6-1c09-47fb-9564-5ddb9c92a09c",
        "colab": {
          "base_uri": "https://localhost:8080/"
        }
      },
      "execution_count": null,
      "outputs": [
        {
          "output_type": "stream",
          "name": "stdout",
          "text": [
            "None\n"
          ]
        }
      ]
    },
    {
      "cell_type": "markdown",
      "source": [
        "**Juntándolo todo**\n",
        "\n",
        "**Ejercicio 6**\n",
        "\n",
        "Piensa en una estrategia para convertir estas tres funciones en una sola, evitando repetir código innecesariamente. No escribas todavía ningún código, sólo escribe la estrategia que seguirías."
      ],
      "metadata": {
        "id": "Z475iqYXQcUE"
      }
    },
    {
      "cell_type": "markdown",
      "source": [
        "Encontrar lo que tienen en común las funciones:\n",
        "Todas trabajan con un diccionario llamado alimento, comparan un valor específico (calorías, azúcar o grasa) con ciertos umbrales y asignan una etiqueta según el resultado.\n",
        "\n",
        "Crear una única función para hacer la comparación:\n",
        "En lugar de escribir una función diferente para cada nutriente, definiré una sola que reciba el nombre del nutriente y las reglas que debe seguir para asignar la etiqueta.\n",
        "\n",
        "Definir un diccionario con las reglas de etiquetado:\n",
        "Este diccionario almacenará los umbrales y etiquetas para cada nutriente. Si algún valor necesita conversión (por ejemplo, transformar grasa de miligramos a gramos), la función lo ajustará automáticamente.\n",
        "\n",
        "Aplicar la función generalizada a cada nutriente:\n",
        "Recorreré el diccionario de reglas y aplicaré la función de etiquetado a cada nutriente del alimento. Al final, obtendré un nuevo diccionario con todas las etiquetas asignadas."
      ],
      "metadata": {
        "id": "6vdOBU0Bgive"
      }
    }
  ]
}