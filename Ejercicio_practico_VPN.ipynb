{
  "nbformat": 4,
  "nbformat_minor": 0,
  "metadata": {
    "colab": {
      "provenance": []
    },
    "kernelspec": {
      "name": "python3",
      "display_name": "Python 3"
    },
    "language_info": {
      "name": "python"
    }
  },
  "cells": [
    {
      "cell_type": "code",
      "execution_count": null,
      "metadata": {
        "id": "IcrSgzm0ilKE"
      },
      "outputs": [],
      "source": []
    },
    {
      "cell_type": "markdown",
      "source": [
        "# Valor presente neto\n",
        "\n",
        "El valor presente neto o VPN es una herramienta que permite determinar el valor actual de los flujos de caja futuros estimados en un proyecto, descontando una tasa que representa costos financieros, impuestos, entre otros conceptos, permitiendo traer al tiempo presente el valor neto de cada flujo proyectado para poder evaluar su rentabilidad al compararse con la inversión inicial.\n",
        "\n",
        "El valor presente neto se calcula como la diferencia entre el valor actual de los flujos de efectivo futuros esperados de una inversión y el costo inicial de la inversión. Es decir, el VPN permite conocer si el valor actual de los ingresos generados por un proyecto supera el costo actual de su ejecución.}\n",
        "\n",
        "![formula](https://www.google.com/imgres?q=FORMULA%20DEL%20VPN&imgurl=https%3A%2F%2Fcdn.prod.website-files.com%2F60aec0444be46a4ded9aecb0%2F61171134101a578e17966b99_pasted%2520image%25200.png&imgrefurl=https%3A%2F%2Fwww.arkangeles.com%2Fblog%2Fvalor-presente-neto&docid=8tpR8FJDteRFjM&tbnid=_sw0Bo-Uqi_ucM&vet=12ahUKEwjv-Mq_2PaLAxUOTDABHd9CBBEQM3oECHYQAA..i&w=242&h=137&hcb=2&ved=2ahUKEwjv-Mq_2PaLAxUOTDABHd9CBBEQM3oECHYQAA)"
      ],
      "metadata": {
        "id": "ZXS9uTyRit9X"
      }
    },
    {
      "cell_type": "markdown",
      "source": [
        "## Importacion del VPN\n",
        "\n",
        "Supóngase que usted planea invertir 50,000 en un proyecto que en 5 años le generará 10,000 de ingresos mensuales. Sucede que $10,000 dentro de 5 años no son lo mismo que 10,000 hoy, porque están afectados por la inflación, los impuestos a pagar sobre esos 10,000, los intereses que debe pagar si se ha endeudado para invertir en el proyecto, el costo de oportunidad en el que incurre al elegir ese proyecto y no otro, etc.\n",
        "\n",
        "Entonces, no puede calcular la rentabilidad sobre 10,000 futuros comparándolos con la inversión a valor de hoy. De traerlos a valor presente porque esos 10,000 en 5 años pueden equivaler a 8,000 de hoy, y la rentabilidad calculada con los 8,000 sí es confiable para determinar si es rentable o no invertir esos 50,000.\n",
        "\n",
        "Aquí se aplica el adagio aquel de que no se puede comparar peras con manzanas. La manzana es la inversión inicial y las peras son los ingresos futuros que generará la inversión, de modo que el VPN lo que hace es convertir esas peras en manzanas para que sean comparables, y es la comparación de los ingresos futuros con la inversión inicial lo que nos indica si la inversión es rentable o no."
      ],
      "metadata": {
        "id": "FtAOJX0ajP46"
      }
    },
    {
      "cell_type": "markdown",
      "source": [
        "### Formula del VPN\n",
        "\n",
        "$$VPN = \\sum_{t=0}^{n} \\frac{F_t}{(1 + r)^t} - I$$\n",
        "\n",
        "\n",
        "El cálculo del valor presente neto requiere cuatro variables:\n",
        "\n",
        "- **Inversión inicial**. Es el monto que debe ser invertido en el proyecto para generar los ingresos futuros.\n",
        "- **Tasa de descuento.** Es el porcentaje de impacto que tendrán los costos financieros, impuestos y costo de oportunidad, entre otros, en los ingresos futuros.\n",
        "- **Flujo de caja o ingresos.** Es el monto de los ingresos estimados que generará cada periodo proyectado.\n",
        "- **Periodo o duración proyectada.** Es el número de periodos, generalmente años, que se han proyectado para la generación del ingreso a evaluar. Por ejemplo, 5 años o 10 años.\n",
        "\n",
        "Las variables son las siguientes:\n",
        "\n",
        "- Ft​: son los flujos de efectivo esperados en el periodo.\n",
        "- r: es la tasa en porcentaje de descuento o tasa de rendimiento requerida.\n",
        "- t: es el número de periodos o años en los que se recibe un flujo de efectivo.\n",
        "- C0​: es la inversión inicial o el costo de la inversión."
      ],
      "metadata": {
        "id": "aGRt8bEiiufq"
      }
    },
    {
      "cell_type": "markdown",
      "source": [
        "### Bubliografia\n",
        "\n",
        "[referencia](https://www.gerencie.com/valor-presente-neto.html)\n"
      ],
      "metadata": {
        "id": "m4s2rtN-kDEi"
      }
    },
    {
      "cell_type": "markdown",
      "source": [
        "##PASOS PARA EL CALCULO DEL  VPN\n",
        "\n",
        "###Declaracion de las variables necesarias para el calculo del VPN"
      ],
      "metadata": {
        "id": "LYTk2JY3_MEP"
      }
    },
    {
      "cell_type": "code",
      "source": [
        "inversion_inicial = 50000\n",
        "Flujo_ano_1 = 15000\n",
        "Flujo_ano_2 = 15000\n",
        "Flujo_ano_3 = 15000\n",
        "tasa_descuento = 0.05"
      ],
      "metadata": {
        "id": "rPbrN2ahk7xK"
      },
      "execution_count": null,
      "outputs": []
    },
    {
      "cell_type": "markdown",
      "source": [
        "##Calculo del VPN:\n",
        "\n",
        "###Se prrocede a utilizar las variables declaradas para el calculo del VPN"
      ],
      "metadata": {
        "id": "BaG2t_oH_w8A"
      }
    },
    {
      "cell_type": "code",
      "source": [
        "VPN = ((Flujo_ano_1 / (1 + tasa_descuento)**1) + (Flujo_ano_2 / (1 + tasa_descuento)**2) + (Flujo_ano_3 / (1 + tasa_descuento)**3) - inversion_inicial)\n",
        "\n",
        "print(\"El valor presente neto (VPN) es : \", VPN)"
      ],
      "metadata": {
        "colab": {
          "base_uri": "https://localhost:8080/"
        },
        "id": "SYXT1DVjpVpV",
        "outputId": "4e32a2dd-f6a0-4d57-936a-d86219846aac"
      },
      "execution_count": null,
      "outputs": [
        {
          "output_type": "stream",
          "name": "stdout",
          "text": [
            "El valor presente neto (VPN) es :  -9151.279559442832\n"
          ]
        }
      ]
    },
    {
      "cell_type": "markdown",
      "source": [
        "## Interpretacion de resultados\n",
        "\n",
        "Una vez realizado el calculo, se iinterpreta el resultado del VPN para determinar la vicbilidad del proyecto:"
      ],
      "metadata": {
        "id": "33oL4fyuAcyL"
      }
    },
    {
      "cell_type": "code",
      "source": [
        "if  VPN > 0:\n",
        "  print(\"El proyecto es viable, ya que el VPN es positivo\")\n",
        "\n",
        "else:\n",
        "  print(\"El proyecto no es viable ya que el VPN es negtivo\")"
      ],
      "metadata": {
        "colab": {
          "base_uri": "https://localhost:8080/"
        },
        "id": "UkIbxJv3q0SO",
        "outputId": "0899bf94-17ad-4ee7-b26d-4ac0a0f29c5b"
      },
      "execution_count": null,
      "outputs": [
        {
          "output_type": "stream",
          "name": "stdout",
          "text": [
            "El proyecto no es viable ya que el VPN es negtivo\n"
          ]
        }
      ]
    }
  ]
}