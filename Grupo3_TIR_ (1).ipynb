{
  "nbformat": 4,
  "nbformat_minor": 0,
  "metadata": {
    "colab": {
      "provenance": []
    },
    "kernelspec": {
      "name": "python3",
      "display_name": "Python 3"
    },
    "language_info": {
      "name": "python"
    }
  },
  "cells": [
    {
      "cell_type": "markdown",
      "source": [
        "# **TASA INTERNA DE RETORNO (TIR)**\n",
        "\n",
        "La Tasa Interna de Retorno (TIR) es un indicador financiero que mide la rentabilidad de un proyecto con base en una inversión inicial y en unos ingresos periódicos proyectados traídos a valor presente neto, de modo que este sea igual a cero.\n",
        "\n",
        "En otras palabras, la TIR representa la tasa de descuento que iguala el valor presente de los flujos de caja futuros de una inversión con el costo inicial, haciendo que el Valor Presente Neto (VPN) sea igual a cero\n",
        "\n",
        "La Tasa Interna de Retorno (TIR) mide la rentabilidad promedio anual de una inversión o proyecto, expresada como un porcentaje.\n",
        "\n",
        "Específicamente, indica la tasa de rendimiento que los flujos de caja futuros generan sobre el capital invertido, considerando el valor del dinero en el tiempo.\n",
        "\n"
      ],
      "metadata": {
        "id": "d9D4zHJRuixb"
      }
    },
    {
      "cell_type": "markdown",
      "source": [
        "## Importancia de la (TIR)\n",
        "\n",
        "La TIR es importante permite determinar si un proyecto es rentable comparándola con el costo de capital a una tasa mínima de retorno requerida. Si la TIR supera esa tasa, el proyecto es financieramente viable; si es menor, no lo es.\n",
        "\n",
        "Además, en cierto modo, mide el punto de equilibrio financiero, donde los ingresos descontados a valor presente igualan la inversión inicial.\n",
        "\n",
        "\n"
      ],
      "metadata": {
        "id": "oyf0jkISxMTl"
      }
    },
    {
      "cell_type": "markdown",
      "source": [
        "## Fórmula para calcular la tasa interna de retorno.\n",
        "\n",
        "La fórmula para calcular la TIR es la siguiente:\n",
        "\n",
        "$$\\sum_{t=0}^{n} \\frac{C_t}{(1 + \\text{TIR})^t} = 0 $$\n",
        "\n",
        "Las variables son las siguientes:  \n",
        "\n",
        "- $C_t$ es el flujo de caja en el período $t$.  \n",
        "- $n$ es el número total de períodos.  \n",
        "- $\\text{TIR}$ es la tasa interna de retorno a determinar.\n",
        "- $t$ representa cada período, desde $t=0$ hasta $t=n$.\n",
        "\n",
        " ### COMO CALCULAR LA **TIR** EN EXCEL\n",
        "![TIREXCEL](https://www.sage.com/es-es/blog/wp-content/uploads/sites/8/2021/11/FORMULA-1.jpg)\n",
        "\n",
        "\n"
      ],
      "metadata": {
        "id": "LvNGp8tdwU7i"
      }
    },
    {
      "cell_type": "markdown",
      "source": [
        " ## Cómo interpretar la tasa interna de retorno.\n",
        "\n",
        " La TIR puede tener tres resultados posibles:\n",
        "- Mayor que cero.\n",
        "- Igual a cero.\n",
        "- Menor que cero.\n",
        "\n",
        "***TIR mayor que cero:*** Si la TIR es mayor que cero, significa que el proyecto es rentable, ya que los flujos de efectivo generados superan la inversión inicial. Sin embargo, la magnitud de la rentabilidad depende de qué tan lejos está la TIR de cero y de las expectativas del inversionista. Por ejemplo, una TIR de 5% (0,05) podría considerarse baja, mientras que una TIR de 30% (0,30) generalmente sería atractiva, dependiendo de las metas del inversionista.\n",
        "\n",
        "***TIR igual a cero:*** Si la TIR es igual a cero, significa que el proyecto genera un retorno justo suficiente para cubrir el costo de la inversión, pero no genera valor adicional.\n",
        "\n",
        "***TIR menor que cero:*** Si la TIR es menor que cero, el proyecto no es rentable, ya que los flujos de efectivo no son suficientes para recuperar la inversión inicial."
      ],
      "metadata": {
        "id": "BVRvkvcMykYQ"
      }
    },
    {
      "cell_type": "markdown",
      "source": [
        "[LINKREFERENCIA](https://www.gerencie.com/tir.html)\n"
      ],
      "metadata": {
        "id": "2XIr3b4V0Q9t"
      }
    },
    {
      "cell_type": "markdown",
      "source": [
        "### Ejercicio: Cálculo de la Tasa Interna de Retorno (TIR) utilizando la fórmula cuadrática\n",
        "\n",
        "Una empresa está evaluando la viabilidad de un proyecto de inversión que requiere un desembolso inicial y genera flujos de efectivo en los años siguientes. Se desea calcular la Tasa Interna de Retorno (TIR) del proyecto utilizando un modelo matemático basado en la ecuación cuadrática."
      ],
      "metadata": {
        "id": "ctCT5VWewxii"
      }
    },
    {
      "cell_type": "markdown",
      "source": [
        "## Pasos a seguir:\n",
        "\n",
        "### 1. Definir los flujos de caja\n",
        "\n",
        "- Se establece la inversión inicial como un valor negativo, ya que representa un desembolso.\n",
        "- Se *asignan* los valores de los flujos de caja proyectados para los años siguientes."
      ],
      "metadata": {
        "id": "nYJetSEhw6ah"
      }
    },
    {
      "cell_type": "code",
      "source": [
        "\n",
        "inversion_inicial = -70\n",
        "Flujoano_1 = 15\n",
        "Flujoano_2 = 60"
      ],
      "metadata": {
        "id": "6tvXw1YBxRAX"
      },
      "execution_count": null,
      "outputs": []
    },
    {
      "cell_type": "markdown",
      "source": [
        "### 2. Calcular el discriminante de la ecuación cuadrática\n",
        "\n",
        "- Se aplica la fórmula del discriminante:\n",
        "\n",
        "$$\n",
        "Discriminante = b^2 - 4ac\n",
        "$$\n",
        "\n",
        "- Si el discriminante es negativo, no hay soluciones reales."
      ],
      "metadata": {
        "id": "F4ggMfkrxe5Z"
      }
    },
    {
      "cell_type": "code",
      "source": [
        "discriminante = (Flujoano_1) ** 2 - 4 * (inversion_inicial) * (Flujoano_2)"
      ],
      "metadata": {
        "id": "RwAS0a73y7gj"
      },
      "execution_count": null,
      "outputs": []
    },
    {
      "cell_type": "markdown",
      "source": [
        "### 3. Verificar si existen soluciones reales\n",
        "- Si el discriminante es negativo, se indica que no hay soluciones reales y si el discriminante es positivo o cero, se procede con el cálculo de la TIR.\n",
        "- Se usa la ecuación:\n",
        "\n",
        "$$\n",
        "x = \\frac{-b \\pm \\sqrt{b^2 - 4ac}}{2a}\n",
        "$$\n"
      ],
      "metadata": {
        "id": "b13ACpE3yvzs"
      }
    },
    {
      "cell_type": "code",
      "source": [
        "if discriminante >= 0:  # Verificar si hay soluciones reales\n",
        " tir_suma = (-Flujoano_1 + (discriminante) ** 0.5) / (2 * (inversion_inicial))\n",
        " tir_resta = (-Flujoano_1 - (discriminante) ** 0.5) / (2 * (inversion_inicial))\n",
        "\n",
        " print(\"SUMA : \", tir_suma)\n",
        " print(\"RESTA :\",tir_resta)"
      ],
      "metadata": {
        "colab": {
          "base_uri": "https://localhost:8080/"
        },
        "id": "0J-abg5Xy33a",
        "outputId": "d2e61f54-e937-424f-9861-f83eac09b0d0"
      },
      "execution_count": null,
      "outputs": [
        {
          "output_type": "stream",
          "name": "stdout",
          "text": [
            "SUMA :  -0.8248563107642777\n",
            "RESTA : 1.0391420250499919\n"
          ]
        }
      ]
    },
    {
      "cell_type": "markdown",
      "source": [
        "### 5. Verificar cuál de las soluciones es válida\n",
        "\n",
        "- Se selecciona la solución que sea positiva, ya que una TIR negativa no es financieramente viable.\n",
        "- Se convierte el valor a porcentaje restando 1 ( pues $𝑥=1+𝑇𝐼𝑅)$\n"
      ],
      "metadata": {
        "id": "kR0896-f1hHM"
      }
    },
    {
      "cell_type": "code",
      "source": [
        "if tir_suma > 0:\n",
        "    print(f\"La Tasa Interna de Retorno (TIR) es: {(tir_suma - 1) * 100}%\")\n",
        "elif tir_resta > 0:\n",
        "    print(f\"La Tasa Interna de Retorno (TIR) es: {(tir_resta - 1) * 100}%\")\n",
        "else:\n",
        "    print(\"No se encontró una TIR válida (ambas soluciones son no positivas).\")\n",
        "\n"
      ],
      "metadata": {
        "colab": {
          "base_uri": "https://localhost:8080/"
        },
        "id": "orMlnETX2Dv4",
        "outputId": "f82eb944-8c1c-4bb9-99ab-e7915f698e48"
      },
      "execution_count": null,
      "outputs": [
        {
          "output_type": "stream",
          "name": "stdout",
          "text": [
            "La Tasa Interna de Retorno (TIR) es: 3.914202504999187%\n"
          ]
        }
      ]
    },
    {
      "cell_type": "markdown",
      "source": [
        "# CODIGO CORRIDO"
      ],
      "metadata": {
        "id": "WZCz6yMG30Pw"
      }
    },
    {
      "cell_type": "code",
      "source": [
        "# Definir los flujos de caja\n",
        "inversion_inicial = -70  # Inversión inicial (negativa porque es un desembolso)\n",
        "Flujoano_1 = 15\n",
        "Flujoano_2 = 60\n",
        "\n",
        "# Calcular las posibles TIR usando la fórmula cuadrática\n",
        "discriminante = (Flujoano_1) ** 2 - 4 * (inversion_inicial) * (Flujoano_2)\n",
        "\n",
        "if discriminante >= 0:  # Verificar si hay soluciones reales\n",
        "    tir_suma = (-Flujoano_1 + (discriminante) ** 0.5) / (2 * (inversion_inicial))\n",
        "    tir_resta = (-Flujoano_1 - (discriminante) ** 0.5) / (2 * (inversion_inicial))\n",
        "\n",
        "    print(\"SUMA :\",tir_suma)\n",
        "    print(\"RESTA :\",tir_resta)\n",
        "\n",
        "    # Validar cuál de las dos soluciones es válida (debe estar entre 0 y 1)\n",
        "    if tir_suma > 0:\n",
        "        print(f\"La Tasa Interna de Retorno (TIR) es: {(tir_suma-1) * 100}%\")\n",
        "    elif tir_resta > 0:\n",
        "        print(f\"La Tasa Interna de Retorno (TIR) es: {(tir_resta-1)* 100}%\")\n",
        "    else:\n",
        "        print(\"No se encontró una TIR válida (ambas soluciones son no positivas).\")\n",
        "else:\n",
        "    print(\"No hay soluciones reales para la TIR (discriminante negativo).\")\n"
      ],
      "metadata": {
        "colab": {
          "base_uri": "https://localhost:8080/"
        },
        "id": "0q_wDjECzqs0",
        "outputId": "a45df4ac-ab2f-438f-8cea-4b5d61b47e20"
      },
      "execution_count": null,
      "outputs": [
        {
          "output_type": "stream",
          "name": "stdout",
          "text": [
            "SUMA : -0.8248563107642777\n",
            "RESTA : 1.0391420250499919\n",
            "La Tasa Interna de Retorno (TIR) es: 3.914202504999187%\n"
          ]
        }
      ]
    },
    {
      "cell_type": "markdown",
      "source": [
        "\n",
        "\n",
        "## Interpretación del resultado:\n",
        "La Tasa Interna de Retorno (TIR) es aproximadamente 3.91%.\n",
        "Esto significa que, si descontamos los flujos de caja a una tasa del 3.91%, el Valor Presente Neto (VPN) del proyecto sería cero.\n",
        "En términos financieros, el proyecto es rentable si la tasa de descuento del mercado es menor a 3.91%.\n",
        "Si la tasa de descuento del mercado (costo del capital) es mayor a 3.91%, el proyecto no sería viable, ya que el costo de oportunidad sería demasiado alto.\n",
        "\n",
        "### Conclusión:\n",
        "Si buscas rentabilidad, compara esta TIR con la tasa de descuento de la empresa o del mercado para tomar una decisión informada."
      ],
      "metadata": {
        "id": "mVMJgy9j9QO4"
      }
    }
  ]
}