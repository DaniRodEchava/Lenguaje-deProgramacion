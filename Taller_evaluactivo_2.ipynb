{
  "nbformat": 4,
  "nbformat_minor": 0,
  "metadata": {
    "colab": {
      "provenance": []
    },
    "kernelspec": {
      "name": "python3",
      "display_name": "Python 3"
    },
    "language_info": {
      "name": "python"
    }
  },
  "cells": [
    {
      "cell_type": "markdown",
      "source": [
        "**Contexto del Taller**\n",
        "\n",
        "Eres parte del equipo de análisis financiero de una empresa que gestiona portafolios de inversión para varios clientes. Debes desarrollar un script en Python para ayudar a la empresa a gestionar información sobre las inversiones de los clientes y generar informes sobre el rendimiento de sus portafolios.\n",
        "\n",
        "Este taller evaluará tu conocimiento sobre declaración de variables, listas, diccionarios, tuplas, ciclos y condicionales. No utilices funciones en este taller."
      ],
      "metadata": {
        "id": "-xhhG2UsOVqA"
      }
    },
    {
      "cell_type": "markdown",
      "source": [
        "#**Parte 1:Declaración de Variables y Listas**\n",
        "\n",
        "Datos de Inversión Inicial\n",
        "La empresa ha recopilado los siguientes datos sobre cuatro clientes:\n"
      ],
      "metadata": {
        "id": "DWXudUUROIcx"
      }
    },
    {
      "cell_type": "markdown",
      "source": [
        "**1. Datos de Inversión Inicial**\n",
        "\n",
        "La empresa ha recopilado los siguientes datos sobre cuatro clientes:\n",
        "\n",
        "-Clientes: Juan Perez, Maria Rodriguez, Carlos Lopez, Ana Gomez\n",
        "\n",
        "-Montos invertidos (en dólares): 10000, 15000, 20000, 18000\n",
        "\n",
        "-Rendimientos anuales (%): 5.5, 6.0, 4.0, 7.5\n",
        "\n",
        "**Tarea:**\n",
        "Declara una lista llamada clientes, una lista llamada montos_invertidos y una lista llamada rendimientos con los datos proporcionados."
      ],
      "metadata": {
        "id": "CtDJJXmWOjtY"
      }
    },
    {
      "cell_type": "code",
      "execution_count": 7,
      "metadata": {
        "colab": {
          "base_uri": "https://localhost:8080/"
        },
        "id": "qJLlT-lwOBSA",
        "outputId": "03fdc6e2-1cfc-4358-db39-2ec9afeb9af8"
      },
      "outputs": [
        {
          "output_type": "stream",
          "name": "stdout",
          "text": [
            "tipo de 'clientes': <class 'list'>\n",
            "Tipo de 'montos_invertidos': <class 'list'>\n",
            "Tipo de 'rendimientos': <class 'list'>\n"
          ]
        }
      ],
      "source": [
        "clientes = [\"Juan Perez\", \"Maria Rodriguez\", \"Carlos Lopez\", \"Ana Gomez\"]\n",
        "montos_invertidos = [10000, 15000, 20000, 18000]\n",
        "rendimientos = [5.5,6.0,4.0,7.5]\n",
        "\n",
        "print(\"tipo de 'clientes':\", type(clientes))\n",
        "print(\"Tipo de 'montos_invertidos':\", type(montos_invertidos))\n",
        "print(\"Tipo de 'rendimientos':\", type(rendimientos))"
      ]
    },
    {
      "cell_type": "markdown",
      "source": [
        "**Crear Tuplas para Almacenar la Información**\n",
        "\n",
        "Crea una tupla para cada cliente que contenga su nombre, monto invertido y rendimiento.\n",
        "\n",
        "**Tarea:**\n",
        "Crea cuatro tuplas llamadas cliente_1, cliente_2, cliente_3 y cliente_4, donde cada tupla contenga los datos de un cliente."
      ],
      "metadata": {
        "id": "etiD1bRTQmy-"
      }
    },
    {
      "cell_type": "code",
      "source": [
        "cliente_1 = (clientes[0], montos_invertidos[0], rendimientos[0])\n",
        "cliente_2 = (clientes[1], montos_invertidos[1], rendimientos[1])\n",
        "cliente_3 = (clientes[2], montos_invertidos[2], rendimientos[2])\n",
        "cliente_4 = (clientes[3], montos_invertidos[3], rendimientos[3])\n",
        "\n",
        "print(cliente_1)\n",
        "print(cliente_2)\n",
        "print(cliente_3)\n",
        "print(cliente_4)"
      ],
      "metadata": {
        "colab": {
          "base_uri": "https://localhost:8080/"
        },
        "id": "ghBvo3_RQ3B6",
        "outputId": "56fb7734-ef33-4606-ba31-cb4fdee0bb57"
      },
      "execution_count": 8,
      "outputs": [
        {
          "output_type": "stream",
          "name": "stdout",
          "text": [
            "('Juan Perez', 10000, 5.5)\n",
            "('Maria Rodriguez', 15000, 6.0)\n",
            "('Carlos Lopez', 20000, 4.0)\n",
            "('Ana Gomez', 18000, 7.5)\n"
          ]
        }
      ]
    },
    {
      "cell_type": "markdown",
      "source": [
        "# **Parte 2: Uso de Diccionarios y Condicionales**\n",
        "\n",
        "Almacenar los Datos en un Diccionario\n",
        "Almacena los datos de los clientes en un diccionario llamado portafolio. En este diccionario, cada clave debe ser el nombre del cliente, y cada valor será un diccionario que contenga el monto_invertido y el rendimiento.\n",
        "\n",
        "**Tarea:**\n",
        "Declara el diccionario portafolio con los datos proporcionados."
      ],
      "metadata": {
        "id": "lrhl09f6RVry"
      }
    },
    {
      "cell_type": "code",
      "source": [
        "portafolio = {\n",
        "    \"Juan Perez\": {\"monto_invertido\": 10000, \"rendimiento\": 5.5},\n",
        "    \"Maria Rodriguez\": {\"monto_invertido\": 15000, \"rendimiento\": 6.0},\n",
        "    \"Carlos Lopez\": {\"monto_invertido\": 20000, \"rendimiento\": 4.0},\n",
        "    \"Ana Gomez\": {\"monto_invertido\": 18000, \"rendimiento\":7.5}\n",
        "}\n",
        "\n",
        "print(portafolio)"
      ],
      "metadata": {
        "colab": {
          "base_uri": "https://localhost:8080/"
        },
        "id": "hmJ-x6EhRfDq",
        "outputId": "fa81c409-616f-4518-f902-6b999fa95e52"
      },
      "execution_count": 9,
      "outputs": [
        {
          "output_type": "stream",
          "name": "stdout",
          "text": [
            "{'Juan Perez': {'monto_invertido': 10000, 'rendimiento': 5.5}, 'Maria Rodriguez': {'monto_invertido': 15000, 'rendimiento': 6.0}, 'Carlos Lopez': {'monto_invertido': 20000, 'rendimiento': 4.0}, 'Ana Gomez': {'monto_invertido': 18000, 'rendimiento': 7.5}}\n"
          ]
        }
      ]
    },
    {
      "cell_type": "markdown",
      "source": [
        "**Evaluación del Rendimiento de los Clientes**\n",
        "\n",
        "La empresa quiere identificar qué clientes han tenido un rendimiento superior al 5%.\n",
        "\n",
        "**Tarea:**\n",
        "\n",
        "Utiliza un ciclo for y una condicional if para recorrer el diccionario portafolio. Imprime el nombre y el rendimiento de aquellos clientes cuyo rendimiento sea mayor al 5%."
      ],
      "metadata": {
        "id": "mUzc6s9iSu5_"
      }
    },
    {
      "cell_type": "code",
      "source": [
        "print(\"Clientes con rendimiento superior al 5%:\")\n",
        "print(\" \")\n",
        "for cliente, datos in portafolio.items():\n",
        "    if datos[\"rendimiento\"] > 5:\n",
        "        print(f\"{cliente} tiene un rendimiento de {datos['rendimiento']}%\")"
      ],
      "metadata": {
        "colab": {
          "base_uri": "https://localhost:8080/"
        },
        "id": "9ADOJB4BS-0X",
        "outputId": "23c3515a-d5bc-4c3f-fb84-0906ebdf33b7"
      },
      "execution_count": 13,
      "outputs": [
        {
          "output_type": "stream",
          "name": "stdout",
          "text": [
            "Clientes con rendimiento superior al 5%:\n",
            " \n",
            "Juan Perez tiene un rendimiento de 5.5%\n",
            "Maria Rodriguez tiene un rendimiento de 6.0%\n",
            "Ana Gomez tiene un rendimiento de 7.5%\n"
          ]
        }
      ]
    },
    {
      "cell_type": "markdown",
      "source": [
        "#**Parte 3: Cálculos con Ciclos**\n",
        "\n",
        "Calcular el Rendimiento Total del Portafolio\n",
        "La empresa desea calcular el rendimiento total del portafolio, que se define como la suma de todos los rendimientos en dólares.\n",
        "\n",
        "**Tarea:**\n",
        "Usa un ciclo for para calcular el rendimiento total del portafolio. El rendimiento en dólares se calcula como:\n",
        "\n"
      ],
      "metadata": {
        "id": "Ktp4Rs_ZURi_"
      }
    },
    {
      "cell_type": "code",
      "source": [
        "rendimiento_total = 0\n",
        "for cliente, datos in portafolio.items():\n",
        "    rendimiento_cliente = (datos[\"monto_invertido\"] * datos[\"rendimiento\"]) / 100\n",
        "    rendimiento_total += rendimiento_cliente\n",
        "\n",
        "print(f\"\\nEl rendimiento total del portafolio es: ${rendimiento_total:.2f}\")"
      ],
      "metadata": {
        "colab": {
          "base_uri": "https://localhost:8080/"
        },
        "id": "7GuLS4tOU8X-",
        "outputId": "6a68906a-e69c-4ac2-fef4-022e43d3b2e6"
      },
      "execution_count": 16,
      "outputs": [
        {
          "output_type": "stream",
          "name": "stdout",
          "text": [
            "\n",
            "El rendimiento total del portafolio es: $3600.00\n"
          ]
        }
      ]
    },
    {
      "cell_type": "markdown",
      "source": [
        "**Identificar al Cliente con Mayor Rendimiento**\n",
        "\n",
        "La empresa necesita saber qué cliente ha obtenido el mayor rendimiento en términos absolutos.\n",
        "\n",
        "**Tarea:**\n",
        "Recorre el diccionario portafolio usando un ciclo for y usa una condicional if para identificar al cliente con el mayor rendimiento absoluto en dólares."
      ],
      "metadata": {
        "id": "vCkL6YTnVwGP"
      }
    },
    {
      "cell_type": "code",
      "source": [
        "mayor_rendimiento = 0\n",
        "cliente_mayor = \"\"\n",
        "\n",
        "for cliente, datos in portafolio.items():\n",
        "    rendimiento_cliente = (datos[\"monto_invertido\"] * datos[\"rendimiento\"]) / 100\n",
        "    if rendimiento_cliente > mayor_rendimiento:\n",
        "        mayor_rendimiento = rendimiento_cliente\n",
        "        cliente_mayor=cliente\n",
        "\n",
        "print(f\"\\nEl cliente con mayor rendimiento es {cliente_mayor} con ${mayor_rendimiento:.2f}\")"
      ],
      "metadata": {
        "colab": {
          "base_uri": "https://localhost:8080/"
        },
        "id": "p2tKXdWuUapO",
        "outputId": "f58d1816-7a15-4419-db78-8615e813d097"
      },
      "execution_count": 15,
      "outputs": [
        {
          "output_type": "stream",
          "name": "stdout",
          "text": [
            "\n",
            "El cliente con mayor rendimiento es Ana Gomez con $1350.00\n"
          ]
        }
      ]
    },
    {
      "cell_type": "markdown",
      "source": [
        "#**Parte 4: Modificaciones del Portafolio**\n",
        "Actualizar el Monto Invertido de un Cliente\n",
        "\"Carlos Lopez\" ha decidido aumentar su inversión a 25,000 dólares.\n",
        "\n",
        "**Tarea:**\n",
        "Actualiza el valor de monto_invertido para \"Carlos Lopez\" en el diccionario portafolio."
      ],
      "metadata": {
        "id": "rUdmf1acWTSI"
      }
    },
    {
      "cell_type": "code",
      "source": [
        "# Actualizar monto invertido de Carlos Lopez\n",
        "portafolio[\"Carlos Lopez\"][\"monto_invertido\"] = 25000\n",
        "\n",
        "print(portafolio)\n"
      ],
      "metadata": {
        "colab": {
          "base_uri": "https://localhost:8080/"
        },
        "id": "S6thgyM-W4Y-",
        "outputId": "fd7c44b7-6746-4c97-a9a3-bdb810e0652c"
      },
      "execution_count": 19,
      "outputs": [
        {
          "output_type": "stream",
          "name": "stdout",
          "text": [
            "{'Juan Perez': {'monto_invertido': 10000, 'rendimiento': 5.5}, 'Maria Rodriguez': {'monto_invertido': 15000, 'rendimiento': 6.0}, 'Carlos Lopez': {'monto_invertido': 25000, 'rendimiento': 4.0}, 'Ana Gomez': {'monto_invertido': 18000, 'rendimiento': 7.5}}\n"
          ]
        }
      ]
    },
    {
      "cell_type": "markdown",
      "source": [
        "**Añadir un Nuevo Cliente al Portafolio**\n",
        "Un nuevo cliente, \"Laura Fernandez\", ha decidido invertir 22,000 dólares con un rendimiento del 6.8%.\n",
        "\n",
        "**Tarea:**\n",
        "Añade a \"Laura Fernandez\" al diccionario portafolio con los datos proporcionados."
      ],
      "metadata": {
        "id": "rmzrpktuXKpP"
      }
    },
    {
      "cell_type": "code",
      "source": [
        "portafolio[\"Laura Fernandez\"] = {\"monto_invertido\": 22000, \"rendimiento\": 6.8}\n",
        "\n",
        "print(portafolio)"
      ],
      "metadata": {
        "colab": {
          "base_uri": "https://localhost:8080/"
        },
        "id": "YAJbBkblXTi2",
        "outputId": "fa14fa2c-787c-402b-a049-69fa76d91a4d"
      },
      "execution_count": 20,
      "outputs": [
        {
          "output_type": "stream",
          "name": "stdout",
          "text": [
            "{'Juan Perez': {'monto_invertido': 10000, 'rendimiento': 5.5}, 'Maria Rodriguez': {'monto_invertido': 15000, 'rendimiento': 6.0}, 'Carlos Lopez': {'monto_invertido': 25000, 'rendimiento': 4.0}, 'Ana Gomez': {'monto_invertido': 18000, 'rendimiento': 7.5}, 'Laura Fernandez': {'monto_invertido': 22000, 'rendimiento': 6.8}}\n"
          ]
        }
      ]
    },
    {
      "cell_type": "markdown",
      "source": [
        "**Remover a un Cliente del Portafolio**\n",
        "\"Ana Gomez\" ha decidido retirar su inversión.\n",
        "\n",
        "**Tarea:**\n",
        "Remueve a \"Ana Gomez\" del diccionario portafolio.  "
      ],
      "metadata": {
        "id": "Yx0J4v7FXd8-"
      }
    },
    {
      "cell_type": "code",
      "source": [
        "portafolio.pop(\"Ana Gomez\")\n",
        "\n",
        "print(portafolio)"
      ],
      "metadata": {
        "colab": {
          "base_uri": "https://localhost:8080/"
        },
        "id": "i4Zkqh1jXlT-",
        "outputId": "4c10e057-152e-4f82-d487-3cabe2d9a0cd"
      },
      "execution_count": 22,
      "outputs": [
        {
          "output_type": "stream",
          "name": "stdout",
          "text": [
            "{'Juan Perez': {'monto_invertido': 10000, 'rendimiento': 5.5}, 'Maria Rodriguez': {'monto_invertido': 15000, 'rendimiento': 6.0}, 'Carlos Lopez': {'monto_invertido': 25000, 'rendimiento': 4.0}, 'Laura Fernandez': {'monto_invertido': 22000, 'rendimiento': 6.8}}\n"
          ]
        }
      ]
    }
  ]
}